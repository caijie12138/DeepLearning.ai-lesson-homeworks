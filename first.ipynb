{
 "cells": [
  {
   "cell_type": "markdown",
   "metadata": {},
   "source": [
    "# My first title in Jupyter"
   ]
  },
  {
   "cell_type": "markdown",
   "metadata": {},
   "source": [
    "let's #add two numbers"
   ]
  },
  {
   "cell_type": "code",
   "execution_count": 3,
   "metadata": {},
   "outputs": [
    {
     "data": {
      "text/plain": [
       "4"
      ]
     },
     "execution_count": 3,
     "metadata": {},
     "output_type": "execute_result"
    }
   ],
   "source": [
    "1 + 3"
   ]
  },
  {
   "cell_type": "markdown",
   "metadata": {},
   "source": [
    "## hhhhh "
   ]
  },
  {
   "cell_type": "markdown",
   "metadata": {},
   "source": [
    "$$\\int_0^{+\\infty} x^2 dx$$"
   ]
  },
  {
   "cell_type": "code",
   "execution_count": 8,
   "metadata": {},
   "outputs": [
    {
     "name": "stdout",
     "output_type": "stream",
     "text": [
      "test:hello,world\n"
     ]
    }
   ],
   "source": [
    "test = \"hello,world\"\n",
    "print(\"test:\" + test)"
   ]
  },
  {
   "cell_type": "markdown",
   "metadata": {},
   "source": [
    "### 查询官方文档"
   ]
  },
  {
   "cell_type": "code",
   "execution_count": 17,
   "metadata": {
    "collapsed": true
   },
   "outputs": [],
   "source": [
    "np.exp?"
   ]
  },
  {
   "cell_type": "markdown",
   "metadata": {},
   "source": [
    "### sigmoid函数"
   ]
  },
  {
   "cell_type": "code",
   "execution_count": 18,
   "metadata": {},
   "outputs": [
    {
     "data": {
      "text/plain": [
       "array([ 0.73105858,  0.88079708,  0.95257413])"
      ]
     },
     "execution_count": 18,
     "metadata": {},
     "output_type": "execute_result"
    }
   ],
   "source": [
    "import numpy as np\n",
    "import math\n",
    "def sigmoidfunc(x):\n",
    "    a = np.exp(-x)\n",
    "    b = 1 / (1 + a)\n",
    "    return b\n",
    "\n",
    "d = np.array([1,2,3])\n",
    "sigmoidfunc(d)"
   ]
  },
  {
   "cell_type": "markdown",
   "metadata": {},
   "source": [
    "### sigmoid gradient"
   ]
  },
  {
   "cell_type": "code",
   "execution_count": 25,
   "metadata": {},
   "outputs": [
    {
     "data": {
      "text/plain": [
       "array([ 0.19661193,  0.10499359,  0.04517666])"
      ]
     },
     "execution_count": 25,
     "metadata": {},
     "output_type": "execute_result"
    }
   ],
   "source": [
    "import numpy as np\n",
    "def sigmoid(x):\n",
    "    s = 1 / (1 + np.exp(-x))\n",
    "    return s\n",
    "\n",
    "def sigmoid_derivative(x):\n",
    "    f = sigmoid(x)*(1 - sigmoid(x))\n",
    "    return f\n",
    "\n",
    "a = np.array([1,2,3])\n",
    "sigmoid_derivative(sigmoid(a))\n",
    "    "
   ]
  },
  {
   "cell_type": "markdown",
   "metadata": {},
   "source": [
    "### shape reshape"
   ]
  },
  {
   "cell_type": "code",
   "execution_count": 43,
   "metadata": {},
   "outputs": [
    {
     "name": "stdout",
     "output_type": "stream",
     "text": [
      "3\n"
     ]
    },
    {
     "data": {
      "text/plain": [
       "array([[ 0.67826139],\n",
       "       [ 0.29380381],\n",
       "       [ 0.90714982],\n",
       "       [ 0.52835647],\n",
       "       [ 0.4215251 ],\n",
       "       [ 0.45017551],\n",
       "       [ 0.92814219],\n",
       "       [ 0.96677647],\n",
       "       [ 0.85304703],\n",
       "       [ 0.52351845],\n",
       "       [ 0.19981397],\n",
       "       [ 0.27417313],\n",
       "       [ 0.60659855],\n",
       "       [ 0.00533165],\n",
       "       [ 0.10820313],\n",
       "       [ 0.49978937],\n",
       "       [ 0.34144279],\n",
       "       [ 0.94630077]])"
      ]
     },
     "execution_count": 43,
     "metadata": {},
     "output_type": "execute_result"
    }
   ],
   "source": [
    "import numpy as np\n",
    "def image2vector(image):\n",
    "    image2 = image.reshape((image.shape[0] * image.shape[1] * image.shape[2], 1))\n",
    "    return image2\n",
    "\n",
    "image = np.array([[[ 0.67826139,  0.29380381],\n",
    "        [ 0.90714982,  0.52835647],\n",
    "        [ 0.4215251 ,  0.45017551]],\n",
    "\n",
    "       [[ 0.92814219,  0.96677647],\n",
    "        [ 0.85304703,  0.52351845],\n",
    "        [ 0.19981397,  0.27417313]],\n",
    "\n",
    "       [[ 0.60659855,  0.00533165],\n",
    "        [ 0.10820313,  0.49978937],\n",
    "        [ 0.34144279,  0.94630077]]])\n",
    "print(image.shape[0])\n",
    "image2vector(image)"
   ]
  },
  {
   "cell_type": "markdown",
   "metadata": {},
   "source": [
    "### 单位化"
   ]
  },
  {
   "cell_type": "code",
   "execution_count": 1,
   "metadata": {},
   "outputs": [
    {
     "name": "stdout",
     "output_type": "stream",
     "text": [
      "[[ 5.        ]\n",
      " [ 7.28010989]]\n"
     ]
    },
    {
     "data": {
      "text/plain": [
       "array([[ 0.        ,  0.6       ,  0.8       ],\n",
       "       [ 0.13736056,  0.82416338,  0.54944226]])"
      ]
     },
     "execution_count": 1,
     "metadata": {},
     "output_type": "execute_result"
    }
   ],
   "source": [
    "import numpy as np\n",
    "def normalizeRows(x):\n",
    "    result = np.linalg.norm(x,ord=2,axis=1,keepdims=True)#axis=1表示行\n",
    "    print(result)\n",
    "    result = x / result\n",
    "    return result\n",
    "    \n",
    "x = np.array([[0,3,4],\n",
    "              [1,6,4]])\n",
    "normalizeRows(x)"
   ]
  },
  {
   "cell_type": "markdown",
   "metadata": {},
   "source": [
    "### 广播"
   ]
  },
  {
   "cell_type": "code",
   "execution_count": 48,
   "metadata": {},
   "outputs": [
    {
     "data": {
      "text/plain": [
       "array([[  9.80897665e-01,   8.94462891e-04,   1.79657674e-02,\n",
       "          1.21052389e-04,   1.21052389e-04],\n",
       "       [  8.78679856e-01,   1.18916387e-01,   8.01252314e-04,\n",
       "          8.01252314e-04,   8.01252314e-04]])"
      ]
     },
     "execution_count": 48,
     "metadata": {},
     "output_type": "execute_result"
    }
   ],
   "source": [
    "import numpy as np\n",
    "def softmax(x):\n",
    "    x1 = np.exp(x)\n",
    "    x2 = np.sum(x1,axis = 1,keepdims=True)#加一整行的值\n",
    "    x = x1 / x2\n",
    "    return x\n",
    "\n",
    "x = np.array([[9,2,5,0,0],\n",
    "              [7,5,0,0,0]])\n",
    "softmax(x)"
   ]
  },
  {
   "cell_type": "markdown",
   "metadata": {},
   "source": [
    "## 向量化"
   ]
  },
  {
   "cell_type": "code",
   "execution_count": 50,
   "metadata": {},
   "outputs": [
    {
     "name": "stdout",
     "output_type": "stream",
     "text": [
      "-0.00016799999999994597\n",
      "278\n"
     ]
    }
   ],
   "source": [
    "import numpy as np\n",
    "import time\n",
    "\n",
    "x1 = [9, 2, 5, 0, 0, 7, 5, 0, 0, 0, 9, 2, 5, 0, 0]\n",
    "x2 = [9, 2, 2, 9, 0, 9, 2, 5, 0, 0, 9, 2, 5, 0, 0]\n",
    "time1 = time.process_time()\n",
    "dot = np.dot(x1,x2)\n",
    "time2 = time.process_time()\n",
    "\n",
    "print(time1-time2)\n",
    "print(str(dot))\n"
   ]
  },
  {
   "cell_type": "code",
   "execution_count": 9,
   "metadata": {},
   "outputs": [
    {
     "data": {
      "text/plain": [
       "'1.1'"
      ]
     },
     "execution_count": 9,
     "metadata": {},
     "output_type": "execute_result"
    }
   ],
   "source": [
    "import math\n",
    "import numpy as np\n",
    "def loss(ychat,y):\n",
    "    loss = np.sum(np.abs(ychat-y))\n",
    "    return loss*2\n",
    "\n",
    "y = np.array([.9, 0.2, 0.1, .4, .9])\n",
    "ychat = np.array([1, 0, 0, 1, 1])\n",
    "str(loss(ychat,y))"
   ]
  },
  {
   "cell_type": "code",
   "execution_count": 10,
   "metadata": {},
   "outputs": [
    {
     "data": {
      "text/plain": [
       "'0.43'"
      ]
     },
     "execution_count": 10,
     "metadata": {},
     "output_type": "execute_result"
    }
   ],
   "source": [
    "import math\n",
    "import numpy as np\n",
    "def loss(ychat,y):\n",
    "    #loss = np.sum(np.abs(ychat-y))\n",
    "    loss = np.dot(y-ychat,y-ychat)\n",
    "    return loss\n",
    "\n",
    "y = np.array([.9, 0.2, 0.1, .4, .9])\n",
    "ychat = np.array([1, 0, 0, 1, 1])\n",
    "str(loss(ychat,y))"
   ]
  },
  {
   "cell_type": "code",
   "execution_count": 74,
   "metadata": {},
   "outputs": [
    {
     "name": "stdout",
     "output_type": "stream",
     "text": [
      "y = [1], it's a 'cat' picture.\n"
     ]
    },
    {
     "data": {
      "image/png": "[encoded data removed]",
      "text/plain": [
       "<matplotlib.figure.Figure at 0x1146419b0>"
      ]
     },
     "metadata": {},
     "output_type": "display_data"
    }
   ],
   "source": [
    "import numpy as np\n",
    "import matplotlib.pyplot as plt\n",
    "import h5py\n",
    "import scipy\n",
    "from PIL import Image\n",
    "from scipy import ndimage\n",
    "from lr_utils import load_dataset\n",
    "\n",
    "%matplotlib inline\n",
    "\n",
    "train_set_x_orig, train_set_y, test_set_x_orig, test_set_y, classes = load_dataset()\n",
    "\n",
    "index = 25\n",
    "#print(train_set_x_orig)\n",
    "plt.imshow(train_set_x_orig[4])\n",
    "print (\"y = \" + str(train_set_y[:, index]) + \", it's a '\" + classes[np.squeeze(train_set_y[:, index])].decode(\"utf-8\") +  \"' picture.\")\n"
   ]
  },
  {
   "cell_type": "code",
   "execution_count": 41,
   "metadata": {},
   "outputs": [
    {
     "name": "stdout",
     "output_type": "stream",
     "text": [
      "209 64 64 3\n",
      "50\n",
      "64\n",
      "(1, 50)\n",
      "(1, 209)\n"
     ]
    }
   ],
   "source": [
    "import numpy as np\n",
    "import matplotlib.pyplot as plt\n",
    "import h5py\n",
    "import scipy\n",
    "from PIL import Image\n",
    "from scipy import ndimage\n",
    "from lr_utils import load_dataset\n",
    "\n",
    "%matplotlib inline\n",
    "\n",
    "train_set_x_orig, train_set_y, test_set_x_orig, test_set_y, classes = load_dataset()\n",
    "\n",
    "print(train_set_x_orig.shape[0],train_set_x_orig.shape[1],train_set_x_orig.shape[2],train_set_x_orig.shape[3])\n",
    "print(test_set_x_orig.shape[0])\n",
    "print(train_set_x_orig[0].shape[0])\n",
    "print(test_set_y.shape)\n",
    "print(train_set_y.shape)"
   ]
  },
  {
   "cell_type": "markdown",
   "metadata": {},
   "source": [
    "# homework1"
   ]
  },
  {
   "cell_type": "code",
   "execution_count": 14,
   "metadata": {},
   "outputs": [
    {
     "name": "stdout",
     "output_type": "stream",
     "text": [
      "cost after iteration 0:0.693147\n",
      "cost after iteration 100:0.584508\n",
      "cost after iteration 200:0.466949\n",
      "cost after iteration 300:0.376007\n",
      "cost after iteration 400:0.331463\n",
      "cost after iteration 500:0.303273\n",
      "cost after iteration 600:0.279880\n",
      "cost after iteration 700:0.260042\n",
      "cost after iteration 800:0.242941\n",
      "cost after iteration 900:0.228004\n",
      "cost after iteration 1000:0.214820\n",
      "cost after iteration 1100:0.203078\n",
      "cost after iteration 1200:0.192544\n",
      "cost after iteration 1300:0.183033\n",
      "cost after iteration 1400:0.174399\n",
      "cost after iteration 1500:0.166521\n",
      "cost after iteration 1600:0.159305\n",
      "cost after iteration 1700:0.152667\n",
      "cost after iteration 1800:0.146542\n",
      "cost after iteration 1900:0.140872\n",
      "train accuracy: 99.04306220095694 %\n",
      "test accuracy: 70.0 %\n",
      "y = 1.0, your algorithm predicts a \"cat\" picture.\n"
     ]
    },
    {
     "data": {
      "image/png": "[encoded data removed]",
      "text/plain": [
       "<matplotlib.figure.Figure at 0x18124e6438>"
      ]
     },
     "metadata": {},
     "output_type": "display_data"
    }
   ],
   "source": [
    "import numpy as np\n",
    "import matplotlib.pyplot as plt\n",
    "import h5py\n",
    "import scipy\n",
    "from PIL import Image\n",
    "from scipy import ndimage\n",
    "from lr_utils import load_dataset\n",
    "\n",
    "%matplotlib inline\n",
    "\n",
    "train_set_x_orig, train_set_y, test_set_x_orig, test_set_y, classes = load_dataset()\n",
    "m_train = train_set_x_orig.shape[0]\n",
    "m_test = test_set_x_orig.shape[0]\n",
    "num_px = train_set_x_orig[0].shape[0]\n",
    "\n",
    "def sigmoid(x):#激活函数\n",
    "    result = 1/(1 + np.exp(-x))\n",
    "    return result\n",
    "\n",
    "def initialnize_with_zeros(dim):#初始化参数\n",
    "    w = np.zeros((dim,1))\n",
    "    b=0\n",
    "    assert(w.shape == (dim, 1))\n",
    "    assert(isinstance(b, float) or isinstance(b, int))\n",
    "    return w,b\n",
    "\n",
    "def propagate(w,b,X,Y):#前向和反向传播\n",
    "    \n",
    "    m = X.shape[1]#m=2  X=2*2\n",
    "    A = sigmoid( np.dot(w.T , X) + b )\n",
    "    \n",
    "    cost = -1 / m * np.sum(np.multiply(Y, np.log(A)) + np.multiply(1-Y, np.log(1-A))) \n",
    "    \n",
    "    #print(w.shape) (2, 1)(2, 2)(1, 2)\n",
    "    #print(X.shape) \n",
    "    #print(np.dot(w.T, X).shape)\n",
    "    \n",
    "    dw = 1 / m * np.dot(X,(A - Y).T)\n",
    "    db = 1 / m * np.sum(A - Y)\n",
    "    assert(dw.shape == w.shape)\n",
    "    assert(db.dtype == float)\n",
    "    cost = np.squeeze(cost)#将维度为1的条目去掉\n",
    "    assert(cost.shape == ())\n",
    "    \n",
    "    grad = {\"dw\":dw,\n",
    "            \"db\":db}\n",
    "    \n",
    "    return grad,cost\n",
    "\n",
    "def optimize(w, b, X, Y,num_iterations,learning_rate, print_cost = False):#梯度下降计算最优化参数w,b\n",
    "    \n",
    "    \"\"\"\n",
    "    Arguments:\n",
    "    w -- weights, a numpy array of size (num_px * num_px * 3, 1)\n",
    "    b -- bias, a scalar\n",
    "    X -- data of shape (num_px * num_px * 3, number of examples)\n",
    "    Y -- true \"label\" vector (containing 0 if non-cat, 1 if cat), of shape (1, number of examples)\n",
    "    num_iterations -- number of iterations of the optimization loop\n",
    "    learning_rate -- learning rate of the gradient descent update rule\n",
    "    print_cost -- True to print the loss every 100 steps\n",
    "    \n",
    "    \n",
    "    Returns:\n",
    "    params -- dictionary containing the weights w and bias b\n",
    "    grads -- dictionary containing the gradients of the weights and bias with respect to the cost function\n",
    "    costs -- list of all the costs computed during the optimization, this will be used to plot the learning curve.\n",
    "\n",
    "    \"\"\"\n",
    "    costs = []\n",
    "    for i in range(num_iterations):\n",
    "        grads, cost = propagate(w, b, X, Y)\n",
    "        \n",
    "        dw = grads[\"dw\"]\n",
    "        db = grads[\"db\"]\n",
    "        \n",
    "        w = w - learning_rate * dw\n",
    "        b = b - learning_rate * db\n",
    "        \n",
    "        if i % 100 == 0:\n",
    "            costs.append(cost)\n",
    "            \n",
    "        if print_cost and i % 100 == 0:\n",
    "            print(\"cost after iteration %i:%f\" % (i, cost))\n",
    "            \n",
    "        params = {\"w\": w,\n",
    "              \"b\": b}\n",
    "        \n",
    "        grads = {\"dw\": dw,\n",
    "             \"db\": db}\n",
    "\n",
    "    return params, grads, costs\n",
    "    \n",
    "def predict(w,b,X):#使用训练到的数据进行预测\n",
    "    \n",
    "    m = X.shape[1]\n",
    "    \n",
    "    Y_prediction = np.zeros((1,m))\n",
    "    \n",
    "    w = w.reshape(X.shape[0], 1)\n",
    "    \n",
    "    A = sigmoid(np.dot(w.T,X) + b)\n",
    "    \n",
    "    for i in range(A.shape[1]):\n",
    "        if (A[0, i] > 0.5):\n",
    "            Y_prediction[0, i] = 1\n",
    "        else:\n",
    "            Y_prediction[0, i] = 0\n",
    "            \n",
    "    assert(Y_prediction.shape == (1, m))\n",
    "\n",
    "    return Y_prediction\n",
    "\n",
    "    \n",
    "def model(X_train, Y_train, X_test, Y_test,num_iterations = 2000,learning_rate = 0.5,print_cost = False):\n",
    "    #初始化\n",
    "    w = np.zeros((X_train.shape[0],1))\n",
    "    b=0\n",
    "    \n",
    "    params, grads, costs = optimize(w,b,X_train,Y_train,num_iterations,learning_rate,print_cost)\n",
    "    \n",
    "    #print(costs)\n",
    "    \n",
    "    w = params[\"w\"];\n",
    "    b = params[\"b\"];\n",
    "    \n",
    "    Y_prediction_train = predict(w,b,X_train)\n",
    "    Y_prediction_test = predict(w,b,X_test)\n",
    "    \n",
    "    print(\"train accuracy: {} %\".format(100 - np.mean(np.abs(Y_prediction_train - Y_train)) * 100))\n",
    "    print(\"test accuracy: {} %\".format(100 - np.mean(np.abs(Y_prediction_test - Y_test)) * 100))\n",
    "    \n",
    "    d = {\"costs\": costs,\n",
    "         \"Y_prediction_test\": Y_prediction_test, \n",
    "         \"Y_prediction_train\" : Y_prediction_train, \n",
    "         \"w\" : w, \n",
    "         \"b\" : b,\n",
    "         \"learning_rate\" : learning_rate,\n",
    "         \"num_iterations\": num_iterations}\n",
    "\n",
    "    return d\n",
    "    \n",
    "    \n",
    "#print(train_set_x_orig.shape)\n",
    "#print(\"\\n\")\n",
    "train_set_x_flatten = train_set_x_orig.reshape(train_set_x_orig.shape[0],-1).T#行数量已知，列数量未知\n",
    "train_set_y_flatten = train_set_y.reshape(train_set_y.shape[0],-1)\n",
    "\n",
    "test_set_x_flatten = test_set_x_orig.reshape(test_set_x_orig.shape[0],-1).T\n",
    "test_set_y_flatten = test_set_y.reshape(test_set_y.shape[0],-1)\n",
    "\n",
    "\"\"\"\n",
    "(12288, 209)\n",
    "(12288, 50)\n",
    "(1, 209)\n",
    "(1, 50)\n",
    "\"\"\"\n",
    "\"\"\"\n",
    "print(train_set_x_flatten.shape)\n",
    "print(test_set_x_flatten.shape)\n",
    "print(train_set_y_flatten.shape)\n",
    "print(test_set_y_flatten.shape)\n",
    "print(\"\\n\")\n",
    "\"\"\"\n",
    "#train_set_x_flatten = train_set_x_orig.reshape(train_set_x_orig[0].shape[0]*train_set_x_orig[0].shape[1]*train_set_x_orig[0].shape[2],train_set_x_orig[0])\n",
    "\n",
    "test_set_x = test_set_x_flatten / 255\n",
    "train_set_x = train_set_x_flatten / 255\n",
    "#print(train_set_x)\n",
    "#print(train_set_y)\n",
    "\n",
    "#w, b, X, Y = np.array([[1],[2]]), 2, np.array([[1,2],[3,4]]), np.array([[1,0]])\n",
    "#grads, cost = propagate(w, b, X, Y)\n",
    "\"\"\"\n",
    "print (\"dw = \" + str(grads[\"dw\"]))\n",
    "print (\"db = \" + str(grads[\"db\"]))\n",
    "print (\"cost = \" + str(cost))\n",
    "\"\"\"\n",
    "#params, grads, costs = optimize(w, b, X, Y, num_iterations= 100, learning_rate = 0.009, print_cost = False)\n",
    "\"\"\"\n",
    "print (\"w = \" + str(params[\"w\"]))\n",
    "print (\"b = \" + str(params[\"b\"]))\n",
    "print (\"dw = \" + str(grads[\"dw\"]))\n",
    "print (\"db = \" + str(grads[\"db\"]))\n",
    "\"\"\"\n",
    "\n",
    "#print (\"predictions = \" + str(predict(w, b, X)))\n",
    "\n",
    "d = model(train_set_x,train_set_y,test_set_x,test_set_y,2000,0.005,print_cost = True)\n",
    "\n",
    "\n",
    "\"\"\"\n",
    "learning_rates = [0.01, 0.001, 0.0001]\n",
    "models = {}\n",
    "for i in learning_rates:\n",
    "    print (\"learning rate is: \" + str(i))\n",
    "    models[str(i)] = model(train_set_x, train_set_y, test_set_x, test_set_y, num_iterations = 1500, learning_rate = i, print_cost = False)\n",
    "    print ('\\n' + \"-------------------------------------------------------\" + '\\n')\n",
    "\n",
    "for i in learning_rates:\n",
    "    plt.plot(np.squeeze(models[str(i)][\"costs\"]), label= str(models[str(i)][\"learning_rate\"]))\n",
    "\n",
    "plt.ylabel('cost')\n",
    "plt.xlabel('iterations')\n",
    "\n",
    "legend = plt.legend(loc='upper center', shadow=True)\n",
    "frame = legend.get_frame()\n",
    "frame.set_facecolor('0.90')\n",
    "plt.show()\n",
    "\"\"\"\n",
    "\n",
    "## START CODE HERE ## (PUT YOUR IMAGE NAME) \n",
    "my_image = \"cat2.jpg\"   # change this to the name of your image file \n",
    "## END CODE HERE ##\n",
    "\n",
    "# We preprocess the image to fit your algorithm.\n",
    "fname = \"images/\" + my_image\n",
    "image = np.array(ndimage.imread(fname, flatten=False))\n",
    "my_image = scipy.misc.imresize(image, size=(num_px,num_px))\n",
    "my_image = scipy.misc.imresize(image, size=(num_px,num_px)).reshape((1, num_px*num_px*3)).T\n",
    "my_predicted_image = predict(d[\"w\"], d[\"b\"], my_image)\n",
    "\n",
    "plt.imshow(image)\n",
    "print(\"y = \" + str(np.squeeze(my_predicted_image)) + \", your algorithm predicts a \\\"\" + classes[int(np.squeeze(my_predicted_image)),].decode(\"utf-8\") +  \"\\\" picture.\")"
   ]
  },
  {
   "cell_type": "markdown",
   "metadata": {},
   "source": [
    "# homework2"
   ]
  },
  {
   "cell_type": "code",
   "execution_count": 86,
   "metadata": {},
   "outputs": [
    {
     "name": "stdout",
     "output_type": "stream",
     "text": [
      "[[ 1.62434536 -0.61175641 -0.52817175]\n",
      " [-1.07296862  0.86540763 -2.3015387 ]]\n",
      "predictions mean = 0.666666666667\n"
     ]
    }
   ],
   "source": [
    "# Package imports\n",
    "import numpy as np\n",
    "import matplotlib.pyplot as plt\n",
    "from testCases_v2 import *\n",
    "import sklearn\n",
    "import sklearn.datasets\n",
    "import sklearn.linear_model\n",
    "from planar_utils import plot_decision_boundary, sigmoid, load_planar_dataset, load_extra_datasets\n",
    "\n",
    "%matplotlib inline\n",
    "\n",
    "np.random.seed(1) # set a seed so that the results are consistent\n",
    "\n",
    "X, Y = load_planar_dataset()\n",
    "# 导入数据集\n",
    "# X -- data matrix where each row is a single example (2, 400) 包含(X[0,:], X[1,:]) (x1,x2)\n",
    "# Y -- labels vector (0 for red, 1 for blue) (1, 400) (red:0,blue:1)\n",
    "\n",
    "\"\"\"\n",
    "# Visualize the data(可视化数据):\n",
    "plt.scatter(X[0, :], X[1, :], c=np.squeeze(Y,0), s=40, cmap=plt.cm.Spectral);\n",
    "# 散点图 plt.scatter(x,y,s=20,c='b',marker='o',cmap=None,norm=None,vmin=None,vmax=None,alpha=None,linewidth=None,verts=None,hold=None,**kwargs)\n",
    "clf = sklearn.linear_model.LogisticRegressionCV();\n",
    "clf.fit(X.T, Y.T);\n",
    "# Plot the decision boundary for logistic regression\n",
    "plot_decision_boundary(lambda x: clf.predict(x), X, np.squeeze(Y))\n",
    "plt.title(\"Logistic Regression\")\n",
    "\n",
    "# Print accuracy\n",
    "LR_predictions = clf.predict(X.T)\n",
    "print ('Accuracy of logistic regression: %d ' % float((np.dot(Y,LR_predictions) + np.dot(1-Y,1-LR_predictions))/float(Y.size)*100) +\n",
    "       '% ' + \"(percentage of correctly labelled datapoints)\")\n",
    "       \"\"\"\n",
    "\n",
    "# 查看数据构成\n",
    "shape_X = X.shape\n",
    "shape_Y = Y.shape\n",
    "m = X.shape[1]  # training set size\n",
    "#print(shape_X,shape_Y)#(2, 400) (1, 400)\n",
    "\n",
    "#定义神经网络层数\n",
    "\n",
    "def layer_sizes(X,Y):\n",
    "    \"\"\"\n",
    "    Arguments:\n",
    "    X -- input dataset of shape (input size, number of examples)\n",
    "    Y -- labels of shape (output size, number of examples)\n",
    "\n",
    "    Returns:\n",
    "    n_x -- the size of the input layer\n",
    "    n_h -- the size of the hidden layer\n",
    "    n_y -- the size of the output layer\n",
    "    \"\"\"\n",
    "    n_x = X.shape[0]\n",
    "    n_h = 4\n",
    "    n_y = Y.shape[0]\n",
    "    \n",
    "    return (n_x,n_h,n_y)\n",
    "\n",
    "#初始化参数\n",
    "def initialize_parameters(n_x,n_h,n_y):\n",
    "    \"\"\"\n",
    "    Returns:\n",
    "    params -- python dictionary containing your parameters:\n",
    "                    W1 -- weight matrix of shape (n_h, n_x)\n",
    "                    b1 -- bias vector of shape (n_h, 1)\n",
    "                    W2 -- weight matrix of shape (n_y, n_h)\n",
    "                    b2 -- bias vector of shape (n_y, 1)\n",
    "    \"\"\"\n",
    "    np.random.seed(2)#设置seed值保证每次获得的随机数相同\n",
    "    \n",
    "    W1 = np.random.randn(n_h,n_x) * 0.01\n",
    "    b1 = np.zeros((n_h,1))\n",
    "    W2 = np.random.randn(n_y,n_h) * 0.01\n",
    "    b2 = np.zeros((n_y,1))\n",
    "    \n",
    "    #print(W1.shape,b1.shape,W2.shape,b2.shape)\n",
    "    \n",
    "    assert (W1.shape == (n_h, n_x))\n",
    "    assert (b1.shape == (n_h, 1))\n",
    "    assert (W2.shape == (n_y, n_h))\n",
    "    assert (b2.shape == (n_y, 1))\n",
    "\n",
    "    parameters = {\"W1\": W1,\n",
    "                  \"b1\": b1,\n",
    "                  \"W2\": W2,\n",
    "                  \"b2\": b2}\n",
    "    return parameters\n",
    "\n",
    "def forward_propagation(X,paramaters):\n",
    "    \n",
    "    w1 = paramaters[\"W1\"]\n",
    "    b1 = paramaters[\"b1\"]\n",
    "    w2 = paramaters[\"W2\"]\n",
    "    b2 = paramaters[\"b2\"]\n",
    "    \n",
    "    #Z = np.zeros((w1.shape[0],1))\n",
    "    Z1 = np.dot(w1 , X) + b1\n",
    "    #A1 = sigmoid(Z1)\n",
    "    A1 = np.tanh(Z1)\n",
    "    \n",
    "    Z2 = np.dot(w2 , A1) + b2\n",
    "    A2 = sigmoid(Z2)\n",
    "    #A2 = np.tanh(Z2)\n",
    "    \n",
    "    assert(A2.shape == (1,X.shape[1]))\n",
    "    \n",
    "    cache = {\"Z1\": Z1,\n",
    "             \"A1\": A1,\n",
    "             \"Z2\": Z2,\n",
    "             \"A2\": A2}\n",
    "    \n",
    "    return A2,cache\n",
    "    \n",
    "def compute_cost(A2,Y,paramaters):\n",
    "    \n",
    "    m = Y.shape[1]\n",
    "    \n",
    "    cost = -1/m * np.sum(np.multiply(Y,np.log(A2)) + np.multiply((1-Y),np.log(1-A2)))\n",
    "    \n",
    "    cost = np.squeeze(cost) \n",
    "    \n",
    "    assert(isinstance(cost, float))\n",
    "    \n",
    "    return cost\n",
    "    \n",
    "def backward_propagation(cache,X,Y,parameters):\n",
    "    m = X.shape[1]\n",
    "    \n",
    "    A2 = cache[\"A2\"]\n",
    "    A1 = cache[\"A1\"]\n",
    "    Z1 = cache[\"Z1\"]\n",
    "    Z2 = cache[\"Z2\"]\n",
    "    \n",
    "    w1 = parameters[\"W1\"]\n",
    "    b1 = parameters[\"b1\"]\n",
    "    w2 = parameters[\"W2\"]\n",
    "    b2 = parameters[\"b2\"]\n",
    "    \n",
    "    dz2 = A2 - Y\n",
    "    dw2 = 1/m * np.dot(dz2,A1.T)\n",
    "    db2 = 1/m * np.sum(dz2,axis = 1,keepdims = True)\n",
    "    dz1 = np.dot(w2.T,dz2) * (1 - np.power(A1,2))\n",
    "    dw1 = 1/m * np.dot(dz1,X.T)\n",
    "    db1 = 1/m * np.sum(dz1,axis = 1,keepdims = True)\n",
    "    \n",
    "    grads = {\n",
    "        \"dz2\":dz2,\n",
    "        \"dw2\":dw2,\n",
    "        \"db2\":db2,\n",
    "        \"dz1\":dz1,\n",
    "        \"dw1\":dw1,\n",
    "        \"db1\":db1\n",
    "    }\n",
    "    return grads \n",
    "\n",
    "def update_parameters(parameters,grads,learning_rate = 1.2):\n",
    "    \"\"\"\n",
    "    Updates parameters using the gradient descent update rule given above\n",
    "\n",
    "    Arguments:\n",
    "    parameters -- python dictionary containing your parameters \n",
    "    grads -- python dictionary containing your gradients \n",
    "\n",
    "    Returns:\n",
    "    parameters -- python dictionary containing your updated parameters \n",
    "    \"\"\"\n",
    "    # Retrieve each parameter from the dictionary \"parameters\"\n",
    "    ### START CODE HERE ### (≈ 4 lines of code)\n",
    "    w1 = parameters[\"W1\"]\n",
    "    b1 = parameters[\"b1\"]\n",
    "    w2 = parameters[\"W2\"]\n",
    "    b2 = parameters[\"b2\"]\n",
    "    ### END CODE HERE ###\n",
    "\n",
    "    # Retrieve each gradient from the dictionary \"grads\"\n",
    "    ### START CODE HERE ### (≈ 4 lines of code)\n",
    "    dw1 = grads[\"dw1\"]\n",
    "    db1 = grads[\"db1\"]\n",
    "    dw2 = grads[\"dw2\"]\n",
    "    db2 = grads[\"db2\"]\n",
    "    ## END CODE HERE ###\n",
    "\n",
    "    # Update rule for each parameter\n",
    "    ### START CODE HERE ### (≈ 4 lines of code)\n",
    "    w1 = w1 - learning_rate*dw1\n",
    "    b1 = b1 - learning_rate*db1\n",
    "    w2 = w2 - learning_rate*dw2\n",
    "    b2 = b2 - learning_rate*db2\n",
    "    ### END CODE HERE ###\n",
    "\n",
    "    parameters = {\"W1\": w1,\n",
    "                  \"b1\": b1,\n",
    "                  \"W2\": w2,\n",
    "                  \"b2\": b2}\n",
    "\n",
    "    return parameters\n",
    "\n",
    "def nn_model(X,Y,n_h,num_iterations = 10000,print_cost = False):\n",
    "    \n",
    "    np.random.seed(3)\n",
    "    \n",
    "    n_x = layer_sizes(X,Y)[0]\n",
    "    n_y = layer_sizes(X,Y)[2]\n",
    "    \n",
    "    parameters = initialize_parameters(n_x,n_h,n_y)\n",
    "    \n",
    "    W1 = parameters[\"W1\"]\n",
    "    b1 = parameters[\"b1\"]\n",
    "    W2 = parameters[\"W2\"]\n",
    "    b2 = parameters[\"b2\"]\n",
    "    \n",
    "    import pdb\n",
    "    \n",
    "    for i in range(0,num_iterations):\n",
    "        \n",
    "        A2,cache = forward_propagation(X,parameters)\n",
    "        \n",
    "        cost = compute_cost(A2,Y,parameters)\n",
    "         \n",
    "        grads = backward_propagation(cache,X,Y,parameters)\n",
    "        \n",
    "        parameters = update_parameters(parameters,grads,learning_rate = 1.2)\n",
    "        \n",
    "        if(print_cost and i % 100 == 0):\n",
    "        \n",
    "            print (\"Cost after iteration %i: %f\" %(i, cost))\n",
    "            \n",
    "    return parameters\n",
    "\n",
    "\n",
    "def predict(parameters,X):\n",
    "    \n",
    "    A2,cache = forward_propagation(X,parameters)\n",
    "    \n",
    "    predictions = (A2 > 0.5)\n",
    "    \n",
    "    return predictions\n",
    "\n",
    "    #nn_model(X,Y,n_h,num_iterations = 10000,print_cost = False)\n",
    "    \n",
    "\n",
    "#X_assess, Y_assess = layer_sizes_test_case()\n",
    "\n",
    "#(n_x, n_h, n_y) = layer_sizes(X_assess, Y_assess)\n",
    "#print(\"The size of the input layer is: n_x = \" + str(n_x))\n",
    "#print(\"The size of the hidden layer is: n_h = \" + str(n_h))\n",
    "#print(\"The size of the output layer is: n_y = \" + str(n_y))\n",
    "\n",
    "#n_x, n_h, n_y = initialize_parameters_test_case()\n",
    "#初始化参数2，4，1\n",
    "#parameters = initialize_parameters(n_x, n_h, n_y)\n",
    "#print(n_x, n_h, n_y)\n",
    "#print(\"W1 = \" + str(parameters[\"W1\"]))\n",
    "#print(\"b1 = \" + str(parameters[\"b1\"]))\n",
    "#print(\"W2 = \" + str(parameters[\"W2\"]))\n",
    "#print(\"b2 = \" + str(parameters[\"b2\"]))\n",
    "\n",
    "\n",
    "#X_assess, parameters = forward_propagation_test_case()\n",
    "\n",
    "#A2, cache = forward_propagation(X_assess, parameters)\n",
    "\n",
    "# Note: we use the mean here just to make sure that your output matches ours. \n",
    "#print(np.mean(cache[\"Z1\"]),np.mean(cache[\"A1\"]),np.mean(cache[\"Z2\"]),np.mean(cache[\"A2\"]))\n",
    "    \n",
    "#A2, Y_assess, parameters = compute_cost_test_case()\n",
    "\n",
    "#print(\"cost = \" + str(compute_cost(A2, Y_assess, parameters)))\n",
    "#parameters, cache, X_assess, Y_assess = backward_propagation_test_case()\n",
    "\n",
    "#grads = backward_propagation(cache, X_assess, Y_assess,parameters)\n",
    "#print (\"dW1 = \"+ str(grads[\"dw1\"]))\n",
    "#print (\"db1 = \"+ str(grads[\"db1\"]))\n",
    "#print (\"dW2 = \"+ str(grads[\"dw2\"]))\n",
    "#print (\"db2 = \"+ str(grads[\"db2\"]))   \n",
    "\n",
    "#parameters, grads = update_parameters_test_case()\n",
    "#parameters = update_parameters(parameters, grads)\n",
    "\n",
    "#print(\"W1 = \" + str(parameters[\"W1\"]))\n",
    "#print(\"b1 = \" + str(parameters[\"b1\"]))\n",
    "#print(\"W2 = \" + str(parameters[\"W2\"]))\n",
    "#print(\"b2 = \" + str(parameters[\"b2\"]))\n",
    "\n",
    "#X_assess, Y_assess = nn_model_test_case()\n",
    "\n",
    "#parameters = nn_model(X_assess, Y_assess, 4, num_iterations=10000, print_cost=False)\n",
    "#print(\"W1 = \" + str(parameters[\"W1\"]))\n",
    "#print(\"b1 = \" + str(parameters[\"b1\"]))\n",
    "#print(\"W2 = \" + str(parameters[\"W2\"]))\n",
    "#print(\"b2 = \" + str(parameters[\"b2\"]))\n",
    "\n",
    "parameters, X_assess = predict_test_case()\n",
    "\n",
    "\n",
    "\n",
    "predictions = predict(parameters, X_assess)\n",
    "print(\"predictions mean = \" + str(np.mean(predictions)))\n",
    "\n",
    "# Build a model with a n_h-dimensional hidden layer\n",
    "#parameters = nn_model(X, Y, n_h = 4, num_iterations = 10000, print_cost=True)\n",
    "\n",
    "# Plot the decision boundary\n",
    "#plot_decision_boundary(lambda x: predict(parameters, x.T), X, np.squeeze(Y))\n",
    "#plt.title(\"Decision Boundary for hidden layer size \" + str(4))\n",
    "\n",
    "# Print accuracy\n",
    "#predictions = predict(parameters, X)\n",
    "#print ('Accuracy: %d' % float((np.dot(Y,predictions.T) + np.dot(1-Y,1-predictions.T))/float(Y.size)*100) + '%')"
   ]
  },
  {
   "cell_type": "code",
   "execution_count": null,
   "metadata": {
    "collapsed": true
   },
   "outputs": [],
   "source": []
  },
  {
   "cell_type": "code",
   "execution_count": null,
   "metadata": {
    "collapsed": true
   },
   "outputs": [],
   "source": []
  }
 ],
 "metadata": {
  "kernelspec": {
   "display_name": "Python 3",
   "language": "python",
   "name": "python3"
  },
  "language_info": {
   "codemirror_mode": {
    "name": "ipython",
    "version": 3
   },
   "file_extension": ".py",
   "mimetype": "text/x-python",
   "name": "python",
   "nbconvert_exporter": "python",
   "pygments_lexer": "ipython3",
   "version": "3.6.3"
  }
 },
 "nbformat": 4,
 "nbformat_minor": 2
}
